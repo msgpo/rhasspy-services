{
 "cells": [
  {
   "cell_type": "markdown",
   "metadata": {},
   "source": [
    "# Rhasspy MQTT Tools"
   ]
  },
  {
   "cell_type": "code",
   "execution_count": 2,
   "metadata": {},
   "outputs": [
    {
     "name": "stdout",
     "output_type": "stream",
     "text": [
      "/usr/bin/mosquitto_pub\r\n"
     ]
    }
   ],
   "source": [
    "! which mosquitto_pub"
   ]
  },
  {
   "cell_type": "code",
   "execution_count": 4,
   "metadata": {},
   "outputs": [
    {
     "name": "stdout",
     "output_type": "stream",
     "text": [
      "OK\r\n"
     ]
    }
   ],
   "source": [
    "! mosquitto_pub -t 'test' -m 'test' && echo 'OK'"
   ]
  },
  {
   "cell_type": "code",
   "execution_count": 75,
   "metadata": {},
   "outputs": [
    {
     "data": {
      "text/plain": [
       "PosixPath('/home/hansenm/opt/rhasspy-services/docs/notebooks/profile')"
      ]
     },
     "execution_count": 75,
     "metadata": {},
     "output_type": "execute_result"
    }
   ],
   "source": [
    "import os\n",
    "import signal\n",
    "import subprocess\n",
    "from pathlib import Path\n",
    "\n",
    "profile_dir = Path(os.getcwd()) / \"profile\"\n",
    "os.putenv(\"profile_dir\", str(profile_dir))\n",
    "profile_dir"
   ]
  },
  {
   "cell_type": "code",
   "execution_count": 100,
   "metadata": {},
   "outputs": [
    {
     "name": "stdout",
     "output_type": "stream",
     "text": [
      "Overwriting profile/profile.yml\n"
     ]
    }
   ],
   "source": [
    "%%file profile/profile.yml\n",
    "speech-to-text:\n",
    "    audio-input:\n",
    "        host: 127.0.0.1\n",
    "        port: 12200\n",
    "    pocketsphinx:\n",
    "        acoustic-model: !env \"${profile_dir}/acoustic_model\"\n",
    "        language-model: !env \"${profile_dir}/language_model.txt\"\n",
    "        dictionary: !env \"${profile_dir}/dictionary.txt\"\n",
    "            \n",
    "intent-recognition:\n",
    "    fsticuffs:\n",
    "        intent-fst: !env \"${profile_dir}/intent.fst\"\n",
    "        skip-unknown: true\n",
    "        fuzzy: true"
   ]
  },
  {
   "cell_type": "code",
   "execution_count": 94,
   "metadata": {},
   "outputs": [],
   "source": [
    "def start(*args):\n",
    "    \"\"\"Start a process in a new process group\"\"\"\n",
    "    return subprocess.Popen(args, start_new_session=True)\n",
    "\n",
    "def stop(proc):\n",
    "    \"\"\"Terminate a process group\"\"\"\n",
    "    if proc.poll() is None:\n",
    "        pgrp = os.getpgid(proc.pid)\n",
    "        os.killpg(pgrp, signal.SIGINT)\n",
    "        print(f\"Terminated {pgrp}\")"
   ]
  },
  {
   "cell_type": "code",
   "execution_count": 95,
   "metadata": {},
   "outputs": [],
   "source": [
    "import io\n",
    "import jsonlines\n",
    "import paho.mqtt.client as mqtt\n",
    "\n",
    "def subscribe_to(*topics):\n",
    "    \"\"\"Return an on_connect function that subscribes to MQTT topics.\"\"\"\n",
    "    def on_connect(client, userdata, flags, rc):\n",
    "        for topic in topics:\n",
    "            client.subscribe(topic)\n",
    "            print(f\"Subscribed to {topic}\")\n",
    "            \n",
    "    return on_connect\n",
    "\n",
    "def print_message(client, userdata, msg):\n",
    "    \"\"\"MQTT message handler that prints topic/payload.\"\"\"\n",
    "    print(msg.topic, msg.payload.decode())\n",
    "    \n",
    "def send_json(client, topic, payload_dict):\n",
    "    \"\"\"Sends an MQTT message with a jsonl payload.\"\"\"\n",
    "    with io.BytesIO() as buffer:\n",
    "        with jsonlines.Writer(buffer) as out:\n",
    "            out.write(payload_dict)\n",
    "            \n",
    "        client.publish(topic, buffer.getvalue().strip())"
   ]
  },
  {
   "cell_type": "markdown",
   "metadata": {},
   "source": [
    "---"
   ]
  },
  {
   "cell_type": "code",
   "execution_count": 96,
   "metadata": {},
   "outputs": [
    {
     "name": "stdout",
     "output_type": "stream",
     "text": [
      "Started speech to text\n"
     ]
    }
   ],
   "source": [
    "# Start speech to text MQTT client with profile\n",
    "rhasspy_stt = start(\n",
    "    \"rhasspy-pocketsphinx-mqtt\", \"--profile\", profile_dir\n",
    ")\n",
    "\n",
    "print(\"Started speech to text\")"
   ]
  },
  {
   "cell_type": "code",
   "execution_count": 97,
   "metadata": {},
   "outputs": [
    {
     "name": "stdout",
     "output_type": "stream",
     "text": [
      "Started MQTT\n",
      "Subscribed to rhasspy/speech-to-text/text-captured\n"
     ]
    }
   ],
   "source": [
    "# Start MQTT client, subscribe to output event\n",
    "client = mqtt.Client()\n",
    "client.on_connect = subscribe_to(\"rhasspy/speech-to-text/text-captured\")\n",
    "client.on_message = print_message\n",
    "client.connect(\"localhost\")\n",
    "client.loop_start()\n",
    "print(\"Started MQTT\")"
   ]
  },
  {
   "cell_type": "code",
   "execution_count": 98,
   "metadata": {},
   "outputs": [
    {
     "name": "stdout",
     "output_type": "stream",
     "text": [
      "rhasspy/speech-to-text/text-captured {\"text\": \"\", \"transcribe_seconds\": 0.00010085105895996094, \"likelihood\": 0.0}\n"
     ]
    }
   ],
   "source": [
    "# Start listening\n",
    "send_json(client, \"rhasspy/speech-to-text/start-listening\", {})\n",
    "\n",
    "# Stream audio to udp socket (16-bit 16Khz mono PCM)\n",
    "! gst-launch-1.0 -q \\\n",
    "    filesrc location=wav/turn_on_living_room_lamp.wav ! \\\n",
    "    decodebin ! \\\n",
    "    audioconvert ! \\\n",
    "    audioresample ! \\\n",
    "    audio/x-raw, rate=16000, channels=1, format=S16LE ! \\\n",
    "    udpsink host='127.0.0.1' port=12202\n",
    "\n",
    "# Stop listening and transcribe\n",
    "send_json(client, \"rhasspy/speech-to-text/stop-listening\", {})"
   ]
  },
  {
   "cell_type": "code",
   "execution_count": 99,
   "metadata": {},
   "outputs": [
    {
     "name": "stdout",
     "output_type": "stream",
     "text": [
      "Stopped MQTT\n",
      "Terminated 9812\n",
      "Stopped speech to text\n"
     ]
    }
   ],
   "source": [
    "# Stop MQTT client\n",
    "client.loop_stop()\n",
    "print(\"Stopped MQTT\")\n",
    "\n",
    "# Stop speech to text client\n",
    "stop(rhasspy_stt)\n",
    "print(\"Stopped speech to text\")"
   ]
  },
  {
   "cell_type": "markdown",
   "metadata": {},
   "source": [
    "---"
   ]
  },
  {
   "cell_type": "code",
   "execution_count": 104,
   "metadata": {},
   "outputs": [
    {
     "name": "stdout",
     "output_type": "stream",
     "text": [
      "Started intent recognizer\n"
     ]
    }
   ],
   "source": [
    "# Start intent recognizer MQTT client with profile\n",
    "rhasspy_intent = start(\n",
    "    \"rhasspy-fsticuffs-mqtt\", \"--profile\", profile_dir\n",
    ")\n",
    "\n",
    "print(\"Started intent recognizer\")"
   ]
  },
  {
   "cell_type": "code",
   "execution_count": 102,
   "metadata": {},
   "outputs": [
    {
     "name": "stdout",
     "output_type": "stream",
     "text": [
      "Started MQTT\n",
      "Subscribed to rhasspy/intent-recognition/intent-recognized\n"
     ]
    }
   ],
   "source": [
    "# Start MQTT client, subscribe to output event\n",
    "client = mqtt.Client()\n",
    "client.on_connect = subscribe_to(\"rhasspy/intent-recognition/intent-recognized\")\n",
    "client.on_message = print_message\n",
    "client.connect(\"localhost\")\n",
    "client.loop_start()\n",
    "print(\"Started MQTT\")"
   ]
  },
  {
   "cell_type": "code",
   "execution_count": 106,
   "metadata": {},
   "outputs": [
    {
     "name": "stdout",
     "output_type": "stream",
     "text": [
      "rhasspy/intent-recognition/intent-recognized {\"text\": \"turn on the living room lamp\", \"intent\": {\"name\": \"ChangeLightState\", \"confidence\": 1.0}, \"entities\": [{\"entity\": \"state\", \"value\": \"on\", \"raw_value\": \"on\", \"start\": 5, \"end\": 7}, {\"entity\": \"name\", \"value\": \"living room lamp\", \"raw_value\": \"living room lamp\", \"start\": 12, \"end\": 28}], \"raw_text\": \"turn on the living room lamp\", \"tokens\": [\"turn\", \"on\", \"the\", \"living\", \"room\", \"lamp\"], \"raw_tokens\": [\"turn\", \"on\", \"the\", \"living\", \"room\", \"lamp\"], \"slots\": {\"state\": \"on\", \"name\": \"living room lamp\"}, \"intents\": [], \"recognize_seconds\": 0.0003459453582763672}\n"
     ]
    }
   ],
   "source": [
    "send_json(\n",
    "    client,\n",
    "    \"rhasspy/intent-recognition/recognize-intent\",\n",
    "    { \"text\": \"turn on the living room lamp\" }\n",
    ")"
   ]
  },
  {
   "cell_type": "code",
   "execution_count": 107,
   "metadata": {},
   "outputs": [
    {
     "name": "stdout",
     "output_type": "stream",
     "text": [
      "Stopped MQTT\n",
      "Terminated 10179\n",
      "Stopped intent recognizer\n"
     ]
    }
   ],
   "source": [
    "# Stop MQTT client\n",
    "client.loop_stop()\n",
    "print(\"Stopped MQTT\")\n",
    "\n",
    "# Stop intent recognition client client\n",
    "stop(rhasspy_intent)\n",
    "print(\"Stopped intent recognizer\")"
   ]
  },
  {
   "cell_type": "code",
   "execution_count": null,
   "metadata": {},
   "outputs": [],
   "source": []
  }
 ],
 "metadata": {
  "kernelspec": {
   "display_name": "Python 3",
   "language": "python",
   "name": "python3"
  },
  "language_info": {
   "codemirror_mode": {
    "name": "ipython",
    "version": 3
   },
   "file_extension": ".py",
   "mimetype": "text/x-python",
   "name": "python",
   "nbconvert_exporter": "python",
   "pygments_lexer": "ipython3",
   "version": "3.6.7"
  }
 },
 "nbformat": 4,
 "nbformat_minor": 2
}
