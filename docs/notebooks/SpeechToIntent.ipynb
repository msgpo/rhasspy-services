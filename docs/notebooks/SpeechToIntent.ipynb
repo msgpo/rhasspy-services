{
 "cells": [
  {
   "cell_type": "code",
   "execution_count": 10,
   "metadata": {},
   "outputs": [],
   "source": [
    "import os\n",
    "from pathlib import Path"
   ]
  },
  {
   "cell_type": "code",
   "execution_count": 11,
   "metadata": {},
   "outputs": [],
   "source": [
    "profile_dir = Path(\"./profile\")\n",
    "rhasspy_dir = Path(\"/usr/lib/rhasspy\")"
   ]
  },
  {
   "cell_type": "code",
   "execution_count": 12,
   "metadata": {},
   "outputs": [],
   "source": [
    "os.putenv(\"profile_dir\", str(profile_dir))\n",
    "os.putenv(\"rhasspy_dir\", str(rhasspy_dir))"
   ]
  },
  {
   "cell_type": "code",
   "execution_count": 14,
   "metadata": {},
   "outputs": [
    {
     "name": "stdout",
     "output_type": "stream",
     "text": [
      "[GetTime]\r\n",
      "what time is it\r\n",
      "tell me the time\r\n",
      "\r\n",
      "[GetTemperature]\r\n",
      "whats the temperature\r\n",
      "how (hot | cold) is it\r\n",
      "\r\n",
      "[GetGarageState]\r\n",
      "is the garage door (open | closed)\r\n",
      "\r\n",
      "[ChangeLightState]\r\n",
      "light_name = ((living room lamp | garage light) {name}) | <ChangeLightColor.light_name>\r\n",
      "light_state = (on | off) {state}\r\n",
      "\r\n",
      "turn <light_state> [the] <light_name>\r\n",
      "turn [the] <light_name> <light_state>\r\n",
      "\r\n",
      "[ChangeLightColor]\r\n",
      "light_name = (bedroom light) {name}\r\n",
      "color = (red | green | blue) {color}\r\n",
      "\r\n",
      "set [the] <light_name> [to] <color>\r\n",
      "make [the] <light_name> <color>"
     ]
    }
   ],
   "source": [
    "!cat ./profile/sentences.ini"
   ]
  },
  {
   "cell_type": "code",
   "execution_count": 15,
   "metadata": {},
   "outputs": [
    {
     "name": "stdout",
     "output_type": "stream",
     "text": [
      "speech-to-text:\r\n",
      "  pocketsphinx:\r\n",
      "    acoustic-model: !env \"${rhasspy_dir}/languages/english/en-us_pocketsphinx-cmu/acoustic_model\"\r\n",
      "    language-model: !env \"${profile_dir}/language_model.txt\"\r\n",
      "    dictionary: !env \"${profile_dir}/dictionary.txt\"\r\n",
      "\r\n",
      "intent-recognition:\r\n",
      "  fsticuffs:\r\n",
      "    intent-fst: !env \"${profile_dir}/intent.fst\"\r\n",
      "    skip-unknown: true\r\n",
      "    fuzzy: true\r\n",
      "\r\n",
      "training:\r\n",
      "  sentences-file: !env \"${profile_dir}/sentences.ini\"\r\n",
      "  intent-fst: !env \"${profile_dir}/intent.fst\"\r\n",
      "  language-model: !env \"${profile_dir}/language_model.txt\"\r\n",
      "  dictionary: !env \"${profile_dir}/dictionary.txt\"\r\n",
      "  base-dictionary: !env \"${rhasspy_dir}/languages/english/en-us_pocketsphinx-cmu/base_dictionary.txt\"\r\n",
      "  grapheme-to-phoneme-model: !env \"${rhasspy_dir}/languages/english/en-us_pocketsphinx-cmu/g2p.fst\"\r\n"
     ]
    }
   ],
   "source": [
    "!cat ./profile/profile.yml"
   ]
  },
  {
   "cell_type": "code",
   "execution_count": 18,
   "metadata": {},
   "outputs": [
    {
     "name": "stdout",
     "output_type": "stream",
     "text": [
      "DEBUG:rhasspy_train:Profile at /home/hansenm/opt/rhasspy-services/docs/notebooks/profile\n",
      "-- grammars\n",
      "-- grammar_fsts:GetGarageState_fst\n",
      "-- grammar_fsts:GetTemperature_fst\n",
      "-- grammar_fsts:ChangeLightColor_fst\n",
      "-- grammar_fsts:GetTime_fst\n",
      "-- grammar_fsts:ChangeLightState_fst\n",
      ".  grammar_fsts:slot_fsts\n",
      "-- intent_fst\n",
      "-- language_model:intent_counts\n",
      "-- language_model:intent_model\n",
      "-- language_model:intent_arpa\n",
      "-- vocab\n",
      "-- vocab_dict\n"
     ]
    }
   ],
   "source": [
    "!rhasspy-train --profile ./profile"
   ]
  },
  {
   "cell_type": "code",
   "execution_count": 31,
   "metadata": {},
   "outputs": [
    {
     "name": "stdout",
     "output_type": "stream",
     "text": [
      "acoustic_model='/usr/lib/rhasspy/languages/english/en-us_pocketsphinx-cmu/acoustic_model'\n",
      "language_model='/home/hansenm/opt/rhasspy-services/docs/notebooks/profile/language_model.txt'\n",
      "dictionary='/home/hansenm/opt/rhasspy-services/docs/notebooks/profile/dictionary.txt'\n",
      "\u001b[1;39m{\n",
      "  \u001b[0m\u001b[34;1m\"text\"\u001b[0m\u001b[1;39m: \u001b[0m\u001b[0;32m\"turn on the living room lamp\"\u001b[0m\u001b[1;39m,\n",
      "  \u001b[0m\u001b[34;1m\"transcribe_seconds\"\u001b[0m\u001b[1;39m: \u001b[0m\u001b[0;39m0.11511564254760742\u001b[0m\u001b[1;39m,\n",
      "  \u001b[0m\u001b[34;1m\"likelihood\"\u001b[0m\u001b[1;39m: \u001b[0m\u001b[0;39m0.6240313577054549\u001b[0m\u001b[1;39m\n",
      "\u001b[1;39m}\u001b[0m\n"
     ]
    }
   ],
   "source": [
    "!rhasspy-stream-uri ./wav/turn_on_living_room_lamp.wav | \\\n",
    "  rhasspy-pocketsphinx-profile --profile ./profile | \\\n",
    "  jq .  "
   ]
  },
  {
   "cell_type": "code",
   "execution_count": 32,
   "metadata": {},
   "outputs": [
    {
     "name": "stdout",
     "output_type": "stream",
     "text": [
      "intent_fst='/home/hansenm/opt/rhasspy-services/docs/notebooks/profile/intent.fst'\n",
      "skip_unknown=''\n",
      "fuzzy='True'\n",
      "acoustic_model='/usr/lib/rhasspy/languages/english/en-us_pocketsphinx-cmu/acoustic_model'\n",
      "language_model='/home/hansenm/opt/rhasspy-services/docs/notebooks/profile/language_model.txt'\n",
      "dictionary='/home/hansenm/opt/rhasspy-services/docs/notebooks/profile/dictionary.txt'\n",
      "\u001b[1;39m{\n",
      "  \u001b[0m\u001b[34;1m\"text\"\u001b[0m\u001b[1;39m: \u001b[0m\u001b[0;32m\"turn on the living room lamp\"\u001b[0m\u001b[1;39m,\n",
      "  \u001b[0m\u001b[34;1m\"intent\"\u001b[0m\u001b[1;39m: \u001b[0m\u001b[1;39m{\n",
      "    \u001b[0m\u001b[34;1m\"name\"\u001b[0m\u001b[1;39m: \u001b[0m\u001b[0;32m\"ChangeLightState\"\u001b[0m\u001b[1;39m,\n",
      "    \u001b[0m\u001b[34;1m\"confidence\"\u001b[0m\u001b[1;39m: \u001b[0m\u001b[0;39m1\u001b[0m\u001b[1;39m\n",
      "  \u001b[1;39m}\u001b[0m\u001b[1;39m,\n",
      "  \u001b[0m\u001b[34;1m\"entities\"\u001b[0m\u001b[1;39m: \u001b[0m\u001b[1;39m[\n",
      "    \u001b[1;39m{\n",
      "      \u001b[0m\u001b[34;1m\"entity\"\u001b[0m\u001b[1;39m: \u001b[0m\u001b[0;32m\"state\"\u001b[0m\u001b[1;39m,\n",
      "      \u001b[0m\u001b[34;1m\"value\"\u001b[0m\u001b[1;39m: \u001b[0m\u001b[0;32m\"on\"\u001b[0m\u001b[1;39m,\n",
      "      \u001b[0m\u001b[34;1m\"raw_value\"\u001b[0m\u001b[1;39m: \u001b[0m\u001b[0;32m\"on\"\u001b[0m\u001b[1;39m,\n",
      "      \u001b[0m\u001b[34;1m\"start\"\u001b[0m\u001b[1;39m: \u001b[0m\u001b[0;39m5\u001b[0m\u001b[1;39m,\n",
      "      \u001b[0m\u001b[34;1m\"end\"\u001b[0m\u001b[1;39m: \u001b[0m\u001b[0;39m7\u001b[0m\u001b[1;39m\n",
      "    \u001b[1;39m}\u001b[0m\u001b[1;39m,\n",
      "    \u001b[1;39m{\n",
      "      \u001b[0m\u001b[34;1m\"entity\"\u001b[0m\u001b[1;39m: \u001b[0m\u001b[0;32m\"name\"\u001b[0m\u001b[1;39m,\n",
      "      \u001b[0m\u001b[34;1m\"value\"\u001b[0m\u001b[1;39m: \u001b[0m\u001b[0;32m\"living room lamp\"\u001b[0m\u001b[1;39m,\n",
      "      \u001b[0m\u001b[34;1m\"raw_value\"\u001b[0m\u001b[1;39m: \u001b[0m\u001b[0;32m\"living room lamp\"\u001b[0m\u001b[1;39m,\n",
      "      \u001b[0m\u001b[34;1m\"start\"\u001b[0m\u001b[1;39m: \u001b[0m\u001b[0;39m12\u001b[0m\u001b[1;39m,\n",
      "      \u001b[0m\u001b[34;1m\"end\"\u001b[0m\u001b[1;39m: \u001b[0m\u001b[0;39m28\u001b[0m\u001b[1;39m\n",
      "    \u001b[1;39m}\u001b[0m\u001b[1;39m\n",
      "  \u001b[1;39m]\u001b[0m\u001b[1;39m,\n",
      "  \u001b[0m\u001b[34;1m\"raw_text\"\u001b[0m\u001b[1;39m: \u001b[0m\u001b[0;32m\"turn on the living room lamp\"\u001b[0m\u001b[1;39m,\n",
      "  \u001b[0m\u001b[34;1m\"tokens\"\u001b[0m\u001b[1;39m: \u001b[0m\u001b[1;39m[\n",
      "    \u001b[0;32m\"turn\"\u001b[0m\u001b[1;39m,\n",
      "    \u001b[0;32m\"on\"\u001b[0m\u001b[1;39m,\n",
      "    \u001b[0;32m\"the\"\u001b[0m\u001b[1;39m,\n",
      "    \u001b[0;32m\"living\"\u001b[0m\u001b[1;39m,\n",
      "    \u001b[0;32m\"room\"\u001b[0m\u001b[1;39m,\n",
      "    \u001b[0;32m\"lamp\"\u001b[0m\u001b[1;39m\n",
      "  \u001b[1;39m]\u001b[0m\u001b[1;39m,\n",
      "  \u001b[0m\u001b[34;1m\"raw_tokens\"\u001b[0m\u001b[1;39m: \u001b[0m\u001b[1;39m[\n",
      "    \u001b[0;32m\"turn\"\u001b[0m\u001b[1;39m,\n",
      "    \u001b[0;32m\"on\"\u001b[0m\u001b[1;39m,\n",
      "    \u001b[0;32m\"the\"\u001b[0m\u001b[1;39m,\n",
      "    \u001b[0;32m\"living\"\u001b[0m\u001b[1;39m,\n",
      "    \u001b[0;32m\"room\"\u001b[0m\u001b[1;39m,\n",
      "    \u001b[0;32m\"lamp\"\u001b[0m\u001b[1;39m\n",
      "  \u001b[1;39m]\u001b[0m\u001b[1;39m,\n",
      "  \u001b[0m\u001b[34;1m\"slots\"\u001b[0m\u001b[1;39m: \u001b[0m\u001b[1;39m{\n",
      "    \u001b[0m\u001b[34;1m\"state\"\u001b[0m\u001b[1;39m: \u001b[0m\u001b[0;32m\"on\"\u001b[0m\u001b[1;39m,\n",
      "    \u001b[0m\u001b[34;1m\"name\"\u001b[0m\u001b[1;39m: \u001b[0m\u001b[0;32m\"living room lamp\"\u001b[0m\u001b[1;39m\n",
      "  \u001b[1;39m}\u001b[0m\u001b[1;39m,\n",
      "  \u001b[0m\u001b[34;1m\"intents\"\u001b[0m\u001b[1;39m: \u001b[0m\u001b[1;39m[]\u001b[0m\u001b[1;39m,\n",
      "  \u001b[0m\u001b[34;1m\"recognize_seconds\"\u001b[0m\u001b[1;39m: \u001b[0m\u001b[0;39m0.0011029243469238281\u001b[0m\u001b[1;39m\n",
      "\u001b[1;39m}\u001b[0m\n"
     ]
    }
   ],
   "source": [
    "!rhasspy-stream-uri ./wav/turn_on_living_room_lamp.wav | \\\n",
    "  rhasspy-pocketsphinx-profile --profile ./profile | \\\n",
    "  rhasspy-fsticuffs-profile --profile ./profile | \\\n",
    "  jq ."
   ]
  }
 ],
 "metadata": {
  "kernelspec": {
   "display_name": "Python 3",
   "language": "python",
   "name": "python3"
  },
  "language_info": {
   "codemirror_mode": {
    "name": "ipython",
    "version": 3
   },
   "file_extension": ".py",
   "mimetype": "text/x-python",
   "name": "python",
   "nbconvert_exporter": "python",
   "pygments_lexer": "ipython3",
   "version": "3.6.8"
  }
 },
 "nbformat": 4,
 "nbformat_minor": 2
}
